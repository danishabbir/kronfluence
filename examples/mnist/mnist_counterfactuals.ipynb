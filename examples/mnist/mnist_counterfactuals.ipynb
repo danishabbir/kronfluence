{
 "cells": [
  {
   "cell_type": "markdown",
   "metadata": {},
   "source": [
    "# MNIST IF v. TRAK "
   ]
  },
  {
   "cell_type": "code",
   "execution_count": 43,
   "metadata": {},
   "outputs": [],
   "source": [
    "import gc\n"
   ]
  },
  {
   "cell_type": "code",
   "execution_count": 37,
   "metadata": {},
   "outputs": [],
   "source": [
    "import math\n",
    "import random\n",
    "from typing import List, Optional, Any, Tuple\n",
    "\n",
    "import matplotlib.pyplot as plt\n",
    "import torch\n",
    "import torch.nn.functional as F\n",
    "from random import shuffle\n",
    "from torch import nn\n",
    "from torch.optim import SGD\n",
    "from torch.nn import CrossEntropyLoss\n",
    "from torch.utils import data\n",
    "from tueplots import cycler, markers\n",
    "from tueplots.constants import markers as marker_constants\n",
    "from tueplots.constants.color import palettes\n",
    "from tqdm import tqdm\n",
    "\n",
    "\n",
    "from pipeline import construct_model, get_loaders, get_hyperparameters\n",
    "\n",
    "plt.rcParams.update({\"figure.dpi\": 150})\n",
    "plt.rcParams.update(markers.with_edge())"
   ]
  },
  {
   "cell_type": "markdown",
   "metadata": {},
   "source": [
    "# Model and Data Setup "
   ]
  },
  {
   "cell_type": "code",
   "execution_count": null,
   "metadata": {},
   "outputs": [],
   "source": [
    "dataset_name = \"mnist\"\n",
    "dataset_dir = \"./data\"\n",
    "\n",
    "# change \n",
    "train_batch_size = 32\n",
    "eval_batch_size = 128\n",
    "num_train_epochs = 40\n",
    "learning_rate = 0.03\n",
    "weight_decay = 0.001"
   ]
  },
  {
   "cell_type": "code",
   "execution_count": 9,
   "metadata": {},
   "outputs": [
    {
     "name": "stdout",
     "output_type": "stream",
     "text": [
      "Downloading http://yann.lecun.com/exdb/mnist/train-images-idx3-ubyte.gz\n",
      "Using downloaded and verified file: /tmp/mnist/MNIST/raw/train-images-idx3-ubyte.gz\n",
      "Extracting /tmp/mnist/MNIST/raw/train-images-idx3-ubyte.gz to /tmp/mnist/MNIST/raw\n",
      "\n",
      "Downloading http://yann.lecun.com/exdb/mnist/train-labels-idx1-ubyte.gz\n",
      "Using downloaded and verified file: /tmp/mnist/MNIST/raw/train-labels-idx1-ubyte.gz\n",
      "Extracting /tmp/mnist/MNIST/raw/train-labels-idx1-ubyte.gz to /tmp/mnist/MNIST/raw\n",
      "\n",
      "Downloading http://yann.lecun.com/exdb/mnist/t10k-images-idx3-ubyte.gz\n",
      "Using downloaded and verified file: /tmp/mnist/MNIST/raw/t10k-images-idx3-ubyte.gz\n",
      "Extracting /tmp/mnist/MNIST/raw/t10k-images-idx3-ubyte.gz to /tmp/mnist/MNIST/raw\n",
      "\n",
      "Downloading http://yann.lecun.com/exdb/mnist/t10k-labels-idx1-ubyte.gz\n",
      "Downloading http://yann.lecun.com/exdb/mnist/t10k-labels-idx1-ubyte.gz to /tmp/mnist/MNIST/raw/t10k-labels-idx1-ubyte.gz\n"
     ]
    },
    {
     "name": "stderr",
     "output_type": "stream",
     "text": [
      "100%|██████████| 4542/4542 [00:00<00:00, 8236285.68it/s]"
     ]
    },
    {
     "name": "stdout",
     "output_type": "stream",
     "text": [
      "Extracting /tmp/mnist/MNIST/raw/t10k-labels-idx1-ubyte.gz to /tmp/mnist/MNIST/raw\n",
      "\n"
     ]
    },
    {
     "name": "stderr",
     "output_type": "stream",
     "text": [
      "\n"
     ]
    }
   ],
   "source": [
    "train_loader, eval_train_loader, valid_loader = get_loaders(data_name=\"mnist\", eval_batch_size=1024)\n",
    "\n",
    "#train_dataset = get_mnist_dataloader(data_name=dataset_name, split=\"train\", dataset_dir=dataset_dir)\n",
    "#query_dataset = get_mnist_dataloader(data_name=dataset_name, split=\"valid\", dataset_dir=dataset_dir)\n",
    "#train_dataset.data_x.shape, train_dataset.data_y.shape"
   ]
  },
  {
   "cell_type": "code",
   "execution_count": 119,
   "metadata": {},
   "outputs": [],
   "source": [
    "model = construct_model()"
   ]
  },
  {
   "cell_type": "code",
   "execution_count": 24,
   "metadata": {},
   "outputs": [],
   "source": [
    "import os\n",
    "import time\n",
    "import numpy as np"
   ]
  },
  {
   "cell_type": "code",
   "execution_count": null,
   "metadata": {},
   "outputs": [],
   "source": []
  },
  {
   "cell_type": "markdown",
   "metadata": {},
   "source": [
    "### utils"
   ]
  },
  {
   "cell_type": "code",
   "execution_count": 22,
   "metadata": {},
   "outputs": [],
   "source": [
    "def set_seed(seed: int) -> None:\n",
    "    seed = int(seed)\n",
    "    random.seed(seed)\n",
    "    np.random.seed(seed)\n",
    "    torch.manual_seed(seed)\n",
    "    torch.cuda.manual_seed(seed)"
   ]
  },
  {
   "cell_type": "code",
   "execution_count": 33,
   "metadata": {},
   "outputs": [],
   "source": [
    "def save_tensor(tensor: Any, file_name: str, overwrite: bool = False) -> bool:\n",
    "    if not os.path.exists(file_name):\n",
    "        torch.save(tensor, file_name)\n",
    "        return False\n",
    "    else:\n",
    "        if overwrite:\n",
    "            print(f\"Removing existing file at {file_name}.\")\n",
    "            torch.save(tensor, file_name)\n",
    "        else:\n",
    "            print(\"Found existing file. Skipping.\")\n",
    "        return True"
   ]
  },
  {
   "cell_type": "code",
   "execution_count": 41,
   "metadata": {},
   "outputs": [],
   "source": [
    "def clear_gpu_cache() -> None:\n",
    "    if torch.cuda.is_available():\n",
    "        gc.collect()\n",
    "        torch.cuda.empty_cache()\n",
    "        torch.cuda.reset_peak_memory_stats()"
   ]
  },
  {
   "cell_type": "markdown",
   "metadata": {},
   "source": [
    "## Main Train Loop "
   ]
  },
  {
   "cell_type": "code",
   "execution_count": 16,
   "metadata": {},
   "outputs": [],
   "source": [
    "def main(\n",
    "    data_name: str = \"mnist\", \n",
    "    num_train: int = 5, \n",
    "    do_corrupt: bool = False,\n",
    ") -> None:\n",
    "    os.makedirs(\"./files\", exist_ok=True)\n",
    "    os.makedirs(\"./files/checkpoints\", exist_ok=True)\n",
    "\n",
    "    train_loader, _, valid_loader = get_loaders(\n",
    "        data_name=data_name,\n",
    "        do_corrupt=do_corrupt,\n",
    "    )\n",
    "    hyper_dict = get_hyperparameters(data_name)\n",
    "    lr = hyper_dict[\"lr\"]\n",
    "    wd = hyper_dict[\"wd\"]\n",
    "\n",
    "    save_name = f\"data_{data_name}\"\n",
    "    if do_corrupt:\n",
    "        save_name += \"_corrupted\"\n",
    "\n",
    "    for i in range(num_train):\n",
    "        print(f\"Training {i}th model.\")\n",
    "        start_time = time.time()\n",
    "\n",
    "        last_epoch_name = f\"../files/checkpoints/data_{data_name}/model_{i}/epoch_20.pt\"\n",
    "        if os.path.exists(last_epoch_name):\n",
    "            print(\"Already exists!\")\n",
    "        else:\n",
    "            set_seed(i)\n",
    "            model = construct_model()\n",
    "            train(\n",
    "                model=model,\n",
    "                loader=train_loader,\n",
    "                lr=lr,\n",
    "                weight_decay=wd,\n",
    "                model_id=i,\n",
    "                save_name=save_name,\n",
    "            )\n",
    "            valid_loss, valid_acc = evaluate(model, valid_loader)\n",
    "            print(f\"Validation Loss: {valid_loss}.\")\n",
    "            print(f\"Validation Accuracy: {valid_acc}.\")\n",
    "            del model\n",
    "            clear_gpu_cache()\n",
    "\n",
    "        print(f\"Took {time.time() - start_time} seconds.\")\n"
   ]
  },
  {
   "cell_type": "code",
   "execution_count": 45,
   "metadata": {},
   "outputs": [],
   "source": [
    "def train(\n",
    "    model: nn.Module,\n",
    "    loader: torch.utils.data.DataLoader,\n",
    "    lr: float,\n",
    "    weight_decay: float,\n",
    "    model_id: int = 0,\n",
    "    save_name: Optional[str] = None,\n",
    ") -> nn.Module:\n",
    "    save = save_name is not None\n",
    "    if save:\n",
    "        os.makedirs(f\"../files/checkpoints/{save_name}/\", exist_ok=True)\n",
    "        os.makedirs(\n",
    "            f\"../files/checkpoints/{save_name}/model_{model_id}/\", exist_ok=True\n",
    "        )\n",
    "        save_tensor(\n",
    "            model.state_dict(),\n",
    "            f\"../files/checkpoints/{save_name}/model_{model_id}/epoch_0.pt\",\n",
    "            overwrite=True,\n",
    "        )\n",
    "    optimizer = SGD(model.parameters(), lr=lr, momentum=0.9, weight_decay=weight_decay)\n",
    "    loss_fn = CrossEntropyLoss(reduction=\"mean\")\n",
    "    epochs = 20\n",
    "\n",
    "    model.train()\n",
    "    for epoch in range(1, epochs + 1):\n",
    "        for images, labels in loader:\n",
    "            optimizer.zero_grad()\n",
    "            outputs = model(images)\n",
    "            loss = loss_fn(outputs, labels)\n",
    "            loss.backward()\n",
    "            optimizer.step()\n",
    "\n",
    "        if save:\n",
    "            save_tensor(\n",
    "                model.state_dict(),\n",
    "                f\"../files/checkpoints/{save_name}/model_{model_id}/epoch_{epoch}.pt\",\n",
    "                overwrite=True,\n",
    "            )\n",
    "    return model"
   ]
  },
  {
   "cell_type": "code",
   "execution_count": 39,
   "metadata": {},
   "outputs": [],
   "source": [
    "def evaluate(\n",
    "    model: nn.Module, loader: torch.utils.data.DataLoader\n",
    ") -> Tuple[float, float]:\n",
    "    model.eval()\n",
    "    with torch.no_grad():\n",
    "        total_loss, total_correct, total_num = 0.0, 0.0, 0.0\n",
    "        for images, labels in loader:\n",
    "            outputs = model(images)\n",
    "            total_loss += F.cross_entropy(outputs, labels, reduction=\"sum\").cpu().item()\n",
    "            total_correct += outputs.argmax(1).eq(labels).sum().cpu().item()\n",
    "            total_num += images.shape[0]\n",
    "    return total_loss / total_num, total_correct / total_num"
   ]
  },
  {
   "cell_type": "code",
   "execution_count": 44,
   "metadata": {},
   "outputs": [
    {
     "name": "stdout",
     "output_type": "stream",
     "text": [
      "Training 0th model.\n",
      "Already exists!\n",
      "Took 0.00021910667419433594 seconds.\n",
      "Training 1th model.\n",
      "Already exists!\n",
      "Took 1.52587890625e-05 seconds.\n",
      "Training 2th model.\n",
      "Already exists!\n",
      "Took 1.33514404296875e-05 seconds.\n",
      "Training 3th model.\n",
      "Validation Loss: 0.19478295743465424.\n",
      "Validation Accuracy: 0.9423828125.\n",
      "Took 63.8028883934021 seconds.\n",
      "Training 4th model.\n",
      "Validation Loss: 0.19103321433067322.\n",
      "Validation Accuracy: 0.94140625.\n",
      "Took 62.86807131767273 seconds.\n"
     ]
    }
   ],
   "source": [
    "main(data_name='mnist', do_corrupt=False, num_train=5)"
   ]
  },
  {
   "cell_type": "code",
   "execution_count": null,
   "metadata": {},
   "outputs": [],
   "source": []
  },
  {
   "cell_type": "markdown",
   "metadata": {},
   "source": [
    "# Kronfluence Task "
   ]
  },
  {
   "cell_type": "code",
   "execution_count": 60,
   "metadata": {},
   "outputs": [],
   "source": [
    "from task import MnistExperimentModelOutput\n"
   ]
  },
  {
   "cell_type": "code",
   "execution_count": 121,
   "metadata": {},
   "outputs": [],
   "source": [
    "from kronfluence.analyzer import Analyzer, prepare_model\n",
    "from kronfluence.task import Task"
   ]
  },
  {
   "cell_type": "code",
   "execution_count": 120,
   "metadata": {},
   "outputs": [
    {
     "name": "stdout",
     "output_type": "stream",
     "text": [
      "==Model Summary==\n",
      "Module Name: `1`, Module: Linear(in_features=784, out_features=512, bias=True)\n",
      "Module Name: `3`, Module: Linear(in_features=512, out_features=256, bias=True)\n",
      "Module Name: `5`, Module: Linear(in_features=256, out_features=128, bias=True)\n",
      "Module Name: `7`, Module: Linear(in_features=128, out_features=10, bias=True)\n"
     ]
    }
   ],
   "source": [
    "print(Analyzer.get_module_summary(model))"
   ]
  },
  {
   "cell_type": "code",
   "execution_count": 129,
   "metadata": {},
   "outputs": [],
   "source": [
    "class MnistExperiment(Task):\n",
    "    def __init__(\n",
    "            self, device: torch.device = \"cpu\") -> None:\n",
    "        self.device = device \n",
    "    def compute_train_loss(\n",
    "        self,\n",
    "        batch: Tuple[torch.Tensor, torch.Tensor],\n",
    "        model: nn.Module,\n",
    "        sample: bool = False,\n",
    "    ) -> torch.Tensor:\n",
    "        inputs, labels = batch\n",
    "        outputs = model(inputs)\n",
    "        if not sample:\n",
    "            return F.cross_entropy(outputs, labels.to(self.device), reduction=\"sum\")\n",
    "        # Sample the outputs from the model's prediction for true Fisher.\n",
    "        with torch.no_grad():\n",
    "            probs = torch.nn.functional.softmax(outputs, dim=-1)\n",
    "            sampled_labels = torch.multinomial(\n",
    "                probs, num_samples=1, generator=None\n",
    "            ).flatten()\n",
    "            \n",
    "        return F.cross_entropy(\n",
    "            outputs, sampled_labels.detach(), reduction=\"sum\")\n",
    "\n",
    "    # when is this used? was v diff for MNIST... but let's see! \n",
    "    def compute_measurement(\n",
    "        self,\n",
    "        batch: Tuple[torch.Tensor, torch.Tensor],\n",
    "        model: nn.Module,\n",
    "    ) -> torch.Tensor:\n",
    "        # The measurement function is set as a training loss.\n",
    "        return self.compute_train_loss(batch, model, sample=False)\n",
    "\n",
    "    def tracked_modules(self) -> Optional[List[str]]:\n",
    "        # These are the module names we will use to compute influence functions.\n",
    "        return [\"1\", \"3\", \"5\", \"7\"]\n",
    "    \n",
    "    def get_model_output(self) -> Optional[Any]:\n",
    "        return MnistExperimentModelOutput()"
   ]
  },
  {
   "cell_type": "code",
   "execution_count": 130,
   "metadata": {},
   "outputs": [],
   "source": [
    "task = MnistExperiment()"
   ]
  },
  {
   "cell_type": "code",
   "execution_count": 131,
   "metadata": {},
   "outputs": [],
   "source": [
    "model = construct_model()"
   ]
  },
  {
   "cell_type": "code",
   "execution_count": 132,
   "metadata": {},
   "outputs": [],
   "source": [
    "model = prepare_model(model, task)"
   ]
  },
  {
   "cell_type": "code",
   "execution_count": 126,
   "metadata": {},
   "outputs": [
    {
     "data": {
      "text/plain": [
       "Sequential(\n",
       "  (0): Flatten(start_dim=1, end_dim=-1)\n",
       "  (1): TrackedLinear(\n",
       "    (original_module): Linear(in_features=784, out_features=512, bias=True)\n",
       "  )\n",
       "  (2): ReLU()\n",
       "  (3): TrackedLinear(\n",
       "    (original_module): Linear(in_features=512, out_features=256, bias=True)\n",
       "  )\n",
       "  (4): ReLU()\n",
       "  (5): TrackedLinear(\n",
       "    (original_module): Linear(in_features=256, out_features=128, bias=True)\n",
       "  )\n",
       "  (6): ReLU()\n",
       "  (7): TrackedLinear(\n",
       "    (original_module): Linear(in_features=128, out_features=10, bias=True)\n",
       "  )\n",
       ")"
      ]
     },
     "execution_count": 126,
     "metadata": {},
     "output_type": "execute_result"
    }
   ],
   "source": [
    "model"
   ]
  },
  {
   "cell_type": "code",
   "execution_count": 133,
   "metadata": {},
   "outputs": [],
   "source": [
    "analyzer = Analyzer(\n",
    "    analysis_name=\"mnist\",\n",
    "    model=model,\n",
    "    task=task,\n",
    "    cpu=True,\n",
    ")"
   ]
  },
  {
   "cell_type": "markdown",
   "metadata": {},
   "source": [
    "## Computing Influence"
   ]
  },
  {
   "cell_type": "code",
   "execution_count": 96,
   "metadata": {},
   "outputs": [
    {
     "name": "stderr",
     "output_type": "stream",
     "text": [
      "Fitting covariance matrices [1/1] 100%|██████████ [time left: 00:00, time spent: 00:00]\n",
      "Fitting covariance matrices [2/2] 100%|██████████ [time left: 00:00, time spent: 00:01]\n"
     ]
    }
   ],
   "source": [
    "analyzer.fit_covariance_matrices(\n",
    "    factors_name=\"mnist_factor\",\n",
    "    dataset=train_loader.dataset,\n",
    "    per_device_batch_size=None,\n",
    "    overwrite_output_dir=True,\n",
    ")"
   ]
  },
  {
   "cell_type": "code",
   "execution_count": 115,
   "metadata": {},
   "outputs": [
    {
     "name": "stderr",
     "output_type": "stream",
     "text": [
      "Fitting covariance matrices [1/1] 100%|██████████ [time left: 00:00, time spent: 00:00]\n",
      "Fitting covariance matrices [2/2] 100%|██████████ [time left: 00:00, time spent: 00:00]\n",
      "Performing Eigendecomposition [4/4] 100%|██████████ [time left: 00:00, time spent: 00:00]\n",
      "Fitting Lambda matrices [1/1] 100%|██████████ [time left: 00:00, time spent: 00:32]\n",
      "Fitting Lambda matrices [2/2] 100%|██████████ [time left: 00:00, time spent: 00:37]\n"
     ]
    }
   ],
   "source": [
    "analyzer.fit_all_factors(\n",
    "    factors_name=\"mnist_factor\",\n",
    "    dataset=train_loader.dataset,\n",
    "    per_device_batch_size=None,\n",
    "    overwrite_output_dir=True,\n",
    ")"
   ]
  },
  {
   "cell_type": "markdown",
   "metadata": {},
   "source": [
    "### Computing Influence Scores"
   ]
  },
  {
   "cell_type": "code",
   "execution_count": 136,
   "metadata": {},
   "outputs": [
    {
     "data": {
      "text/plain": [
       "200"
      ]
     },
     "execution_count": 136,
     "metadata": {},
     "output_type": "execute_result"
    }
   ],
   "source": [
    "query_dataset = valid_loader.dataset\n",
    "len(query_dataset)\n",
    "small_query_dataset = torch.utils.data.Subset(valid_loader.dataset, list(range(200)))\n",
    "len(small_query_dataset)"
   ]
  },
  {
   "cell_type": "code",
   "execution_count": 137,
   "metadata": {},
   "outputs": [
    {
     "name": "stderr",
     "output_type": "stream",
     "text": [
      "Computing pairwise scores (training gradient) [1/1] 100%|██████████ [time left: 00:00, time spent: 00:13]\n",
      "Computing pairwise scores (query gradient) [1/1] 100%|██████████ [time left: 00:00, time spent: 00:25]\n",
      "Computing pairwise scores (training gradient) [2/2] 100%|██████████ [time left: 00:00, time spent: 00:21]\n",
      "Computing pairwise scores (query gradient) [1/1] 100%|██████████ [time left: 00:00, time spent: 00:33]\n"
     ]
    }
   ],
   "source": [
    "analyzer.compute_pairwise_scores(\n",
    "    scores_name=\"mnist_score\",\n",
    "    factors_name=\"mnist_factor\",\n",
    "    query_dataset=query_dataset,\n",
    "    train_dataset=train_loader.dataset,\n",
    "    per_device_query_batch_size=len(query_dataset),\n",
    "    overwrite_output_dir=True,\n",
    ")"
   ]
  },
  {
   "cell_type": "markdown",
   "metadata": {},
   "source": [
    "# IF Counterfactual Experiments"
   ]
  },
  {
   "cell_type": "code",
   "execution_count": null,
   "metadata": {},
   "outputs": [],
   "source": []
  },
  {
   "cell_type": "code",
   "execution_count": 135,
   "metadata": {},
   "outputs": [
    {
     "data": {
      "text/plain": [
       "1"
      ]
     },
     "execution_count": 135,
     "metadata": {},
     "output_type": "execute_result"
    }
   ],
   "source": [
    "single_query_dataset = torch.utils.data.Subset(small_query_dataset, list(range(1)))\n",
    "len(single_query_dataset)"
   ]
  },
  {
   "cell_type": "code",
   "execution_count": 148,
   "metadata": {},
   "outputs": [],
   "source": [
    "single_query_loader = data.DataLoader(\n",
    "    dataset=single_query_dataset,\n",
    "    batch_size= len(single_query_dataset),\n",
    "    shuffle=False,\n",
    "    drop_last=False\n",
    ")"
   ]
  },
  {
   "cell_type": "code",
   "execution_count": 155,
   "metadata": {},
   "outputs": [],
   "source": [
    "def train_and_evaluate(modified_train_dataset: data.Dataset, query_dataset: data.Dataset) -> Tuple[float, float]:\n",
    "    train_loader=data.DataLoader(\n",
    "        dataset=modified_train_dataset,\n",
    "        batch_size=len(modified_train_dataset),\n",
    "        shuffle=False,\n",
    "        drop_last=False\n",
    "    )\n",
    "    single_query_loader = data.DataLoader(\n",
    "        dataset=single_query_dataset,\n",
    "        batch_size= len(single_query_dataset),\n",
    "        shuffle=False,\n",
    "        drop_last=False\n",
    "    )\n",
    "    current_model = train(\n",
    "        model=construct_model(),\n",
    "        loader=train_loader,\n",
    "        lr=0.03,\n",
    "        weight_decay=0.001\n",
    "    )\n",
    "    return evaluate(model=current_model, loader=single_query_loader)"
   ]
  },
  {
   "cell_type": "markdown",
   "metadata": {},
   "source": [
    "1 min train and eval loop, is this acceptable? "
   ]
  },
  {
   "cell_type": "code",
   "execution_count": 158,
   "metadata": {},
   "outputs": [
    {
     "data": {
      "text/plain": [
       "1.6111143827438354"
      ]
     },
     "execution_count": 158,
     "metadata": {},
     "output_type": "execute_result"
    }
   ],
   "source": [
    "num_iter = 2\n",
    "base_loss = 0.0\n",
    "for _ in range(num_iter):\n",
    "    loss, correct = train_and_evaluate(modified_train_dataset=train_loader.dataset, query_dataset=single_query_dataset)\n",
    "    base_loss += loss\n",
    "base_loss /= num_iter\n",
    "base_loss"
   ]
  },
  {
   "cell_type": "markdown",
   "metadata": {},
   "source": [
    "Now we want top IF data points for this query"
   ]
  },
  {
   "cell_type": "code",
   "execution_count": 159,
   "metadata": {},
   "outputs": [
    {
     "name": "stderr",
     "output_type": "stream",
     "text": [
      "Fitting covariance matrices [1/1] 100%|██████████ [time left: 00:00, time spent: 00:00]\n",
      "Fitting covariance matrices [2/2] 100%|██████████ [time left: 00:00, time spent: 00:01]\n",
      "Performing Eigendecomposition [4/4] 100%|██████████ [time left: 00:00, time spent: 00:00]\n",
      "Fitting Lambda matrices [1/1] 100%|██████████ [time left: 00:00, time spent: 00:28]\n",
      "Fitting Lambda matrices [2/2] 100%|██████████ [time left: 00:00, time spent: 00:40]\n",
      "Computing pairwise scores (training gradient) [1/1] 100%|██████████ [time left: 00:00, time spent: 00:05]\n",
      "Computing pairwise scores (query gradient) [1/1] 100%|██████████ [time left: 00:00, time spent: 00:05]\n",
      "Computing pairwise scores (training gradient) [2/2] 100%|██████████ [time left: 00:00, time spent: 00:07]\n",
      "Computing pairwise scores (query gradient) [1/1] 100%|██████████ [time left: 00:00, time spent: 00:07]\n"
     ]
    }
   ],
   "source": [
    "analyzer.fit_all_factors(\n",
    "    factors_name=\"counterfactual_factors\",\n",
    "    dataset=train_loader.dataset,\n",
    "    per_device_batch_size=None,\n",
    "    overwrite_output_dir=True,\n",
    ")\n",
    "analyzer.compute_pairwise_scores(\n",
    "    scores_name=\"counterfactual_scores\",\n",
    "    factors_name=\"counterfactual_factors\",\n",
    "    query_dataset=single_query_dataset,\n",
    "    train_dataset=train_loader.dataset,\n",
    "    per_device_query_batch_size=len(single_query_dataset),\n",
    "    overwrite_output_dir=True,\n",
    ")\n",
    "scores = analyzer.load_pairwise_scores(scores_name=\"counterfactual_scores\")"
   ]
  },
  {
   "cell_type": "markdown",
   "metadata": {},
   "source": []
  },
  {
   "cell_type": "code",
   "execution_count": 160,
   "metadata": {},
   "outputs": [],
   "source": [
    "def get_topk_indices(current_score: torch.Tensor, topk: int = 1) -> torch.Tensor:\n",
    "    return torch.topk(current_score, topk).indices\n",
    "\n",
    "def get_topk_keep_indices(current_score: torch.Tensor, topk: int = 1) -> List[int]:\n",
    "    remove_indices = get_topk_indices(current_score, topk)\n",
    "    remove_indices = [tensor.item() for tensor in remove_indices]\n",
    "    return list(set(list(range(len(train_dataset)))) - set(remove_indices))"
   ]
  },
  {
   "cell_type": "code",
   "execution_count": 163,
   "metadata": {},
   "outputs": [
    {
     "data": {
      "text/plain": [
       "6144"
      ]
     },
     "execution_count": 163,
     "metadata": {},
     "output_type": "execute_result"
    }
   ],
   "source": [
    "len(train_dataset)"
   ]
  },
  {
   "cell_type": "code",
   "execution_count": 164,
   "metadata": {},
   "outputs": [],
   "source": [
    "train_dataset = train_loader.dataset\n",
    "topk_lst = [10, 50, 100, 200, 500] \n",
    "if_removed_loss_lst = []\n",
    "\n",
    "for topk in topk_lst:\n",
    "    keep_indices = get_topk_keep_indices(scores[\"all_modules\"].sum(dim=0), topk=topk)\n",
    "    \n",
    "    new_loss = 0.\n",
    "    for _ in range(num_iter):\n",
    "        loss, corr = train_and_evaluate(modified_train_dataset=torch.utils.data.Subset(train_dataset, keep_indices), query_dataset=single_query_dataset)\n",
    "        new_loss += loss\n",
    "    new_loss /= num_iter\n",
    "    if_removed_loss_lst.append(new_loss)"
   ]
  },
  {
   "cell_type": "code",
   "execution_count": 168,
   "metadata": {},
   "outputs": [
    {
     "data": {
      "text/plain": [
       "Text(0.5, 0, 'Number of Training Samples Removed (MNIST)')"
      ]
     },
     "execution_count": 168,
     "metadata": {},
     "output_type": "execute_result"
    },
    {
     "data": {
      "image/png": "[encoded data removed]",
      "text/plain": [
       "<Figure size 960x720 with 1 Axes>"
      ]
     },
     "metadata": {},
     "output_type": "display_data"
    }
   ],
   "source": [
    "plt.plot([0] + topk_lst, [base_loss] + random_removed_loss_lst, \"o-\", label=\"Random\")\n",
    "#plt.plot([0] + topk_lst, [base_loss] + id_removed_loss_lst, \"o-\", label=\"TracIn (Identity)\")\n",
    "plt.plot([0] + topk_lst, [base_loss] + if_removed_loss_lst, \"o-\", label=\"IF (EKFAC)\")\n",
    "plt.grid()\n",
    "plt.legend()\n",
    "plt.ylabel(\"Query Loss\")\n",
    "plt.xlabel(\"Number of Training Samples Removed (MNIST)\")"
   ]
  },
  {
   "cell_type": "markdown",
   "metadata": {},
   "source": [
    "#### random baseline"
   ]
  },
  {
   "cell_type": "code",
   "execution_count": 166,
   "metadata": {},
   "outputs": [],
   "source": [
    "random_indices = list(range(len(train_dataset)))\n",
    "shuffle(random_indices)\n",
    "random_removed_loss_lst = []\n",
    "\n",
    "for topk in topk_lst:\n",
    "    keep_indices = random_indices[topk:]\n",
    "    \n",
    "    new_loss = 0\n",
    "    for _ in range(num_iter):\n",
    "        loss, corr = train_and_evaluate(modified_train_dataset=torch.utils.data.Subset(train_dataset, keep_indices), query_dataset=single_query_dataset)\n",
    "        new_loss += loss\n",
    "    new_loss /= num_iter\n",
    "    random_removed_loss_lst.append(new_loss)"
   ]
  },
  {
   "cell_type": "code",
   "execution_count": null,
   "metadata": {},
   "outputs": [],
   "source": []
  },
  {
   "cell_type": "markdown",
   "metadata": {},
   "source": [
    "## TRAK Scores "
   ]
  },
  {
   "cell_type": "markdown",
   "metadata": {},
   "source": []
  }
 ],
 "metadata": {
  "kernelspec": {
   "display_name": ".venv",
   "language": "python",
   "name": "python3"
  },
  "language_info": {
   "codemirror_mode": {
    "name": "ipython",
    "version": 3
   },
   "file_extension": ".py",
   "mimetype": "text/x-python",
   "name": "python",
   "nbconvert_exporter": "python",
   "pygments_lexer": "ipython3",
   "version": "3.10.12"
  }
 },
 "nbformat": 4,
 "nbformat_minor": 2
}
